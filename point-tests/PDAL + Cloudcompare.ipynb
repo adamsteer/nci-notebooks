{
 "cells": [
  {
   "cell_type": "markdown",
   "metadata": {
    "collapsed": true
   },
   "source": [
    "### PDAL + cloudcompare demonstration\n",
    "\n",
    "#### What is PDAL?\n",
    "\n",
    "PDAL (http://pdal.io) means 'point data abstraction library', essentially GDAL for points. Version 1.3 is installed on the VDI, with bindings to GDAL, GeoTIFF and Python. It can natively read LAS and LAZ files, text files, GDAL readable rasters, and a few proprietary binary formats. But not ESRI ZLAS.\n",
    "\n",
    "#### Why would I use PDAL?\n",
    "\n",
    "If you have point data, PDAL is potentially a useful way to query and manipulate your data.\n",
    "\n",
    "#### What if my data are not LiDAR?\n",
    "\n",
    "Thats OK, points come from many sources!\n",
    "\n",
    "#### Where is the GUI?\n",
    "\n",
    "There is no GUI. PDAL is a set of C libraries with some prebuilt command line applications. There are several methods for using GUIs to set up and review PDAL operations, some will be demonstrated here. As shown here, you can also drive PDAL from a Jupyter notebook. Sweet!\n",
    "\n",
    "#### Will PDAL eat all my RAMs?\n",
    "\n",
    "Unlikely - PDAL reads and writes streams of data. Filling a numpy array with points might break your RAM - but in general processing is CPU intensive (currently single-thread) but light on other resources.\n",
    "\n",
    "#### What format do my data need to exist in to use PDAL?\n",
    "\n",
    "Almost any widely-recognised point storage format! Clearly, self-describing formats work a lot better in the long term. Software comes and goes - never write data to suit a way of processing it, write data that can still be understood in 1000 years time.\n",
    "\n",
    "#### What is CloudCompare?\n",
    "\n",
    "CloudCompare is a great point data viewer, which has some nifty basic editing/analytical tools. As the name suggests, the software was originally built for comparing point clouds. However, it's very useful for visually inspecting point data.\n",
    "\n",
    "OK, enough questions - let's PDAL some things.\n"
   ]
  },
  {
   "cell_type": "markdown",
   "metadata": {},
   "source": [
    "### Basic commands\n",
    "\n",
    "```\n",
    "#> pdal info\n",
    "#> pdal translate\n",
    "#> pdal merge\n",
    "```\n",
    "\n",
    "...are some basic tools, pretty similar to libLAS (or lastools). To find out about a point data file (if it has embedded PDAL readable metadata) use pdal info. To translate between formats, use pdal translate. To merge a bunch of files into one uber file, use pdal merge.\n",
    "\n",
    "```\n",
    "#> pdal pipeline\n",
    "```\n",
    "\n",
    "...is the real workhorse application - some of the other applications (eg pdal translate) are pretty wrappers for standard pdal pipelines. We'll see pipelines in operation really soon.\n"
   ]
  },
  {
   "cell_type": "markdown",
   "metadata": {},
   "source": [
    "## Plan for the session\n",
    "\n",
    "#### Block 1 - LAS tinkerings\n",
    "- visualise some LAS tiles (ACT 8pt)\n",
    "- clip LAS tiles using a provided geometry, covering multiple tiles (Black mtn/ANU)\n",
    "- reclassify ground in our clipped points because we don't think the vendor did it right\n",
    "- visually inspect results on the VDI\n",
    "- my points didn't have colour, can I make them pretty?\n",
    "- cool, but what can I do? Tree cover example - SPOT vs LiDAR?\n",
    "- do some analysis on the fly using an arbitrary python function\n",
    "\n",
    "#### Block 2 - my points are odd beasts, can PDAL help me?\n",
    "- extract points from netCDF stores\n",
    "- generate and visualise a surface model from them\n",
    "- stash points into a numpy array\n"
   ]
  },
  {
   "cell_type": "code",
   "execution_count": null,
   "metadata": {
    "collapsed": true
   },
   "outputs": [],
   "source": []
  },
  {
   "cell_type": "code",
   "execution_count": null,
   "metadata": {
    "collapsed": true
   },
   "outputs": [],
   "source": []
  },
  {
   "cell_type": "code",
   "execution_count": null,
   "metadata": {
    "collapsed": true
   },
   "outputs": [],
   "source": []
  },
  {
   "cell_type": "code",
   "execution_count": null,
   "metadata": {
    "collapsed": true
   },
   "outputs": [],
   "source": []
  },
  {
   "cell_type": "markdown",
   "metadata": {},
   "source": [
    "### Final points:\n",
    "\n",
    "PDAL can also help stash points into a postgres-pointcloud data store, which has it's own set of tricks for point cloud processing"
   ]
  },
  {
   "cell_type": "code",
   "execution_count": null,
   "metadata": {
    "collapsed": true
   },
   "outputs": [],
   "source": []
  }
 ],
 "metadata": {
  "kernelspec": {
   "display_name": "Python 3",
   "language": "python",
   "name": "python3"
  },
  "language_info": {
   "codemirror_mode": {
    "name": "ipython",
    "version": 3
   },
   "file_extension": ".py",
   "mimetype": "text/x-python",
   "name": "python",
   "nbconvert_exporter": "python",
   "pygments_lexer": "ipython3",
   "version": "3.5.2"
  }
 },
 "nbformat": 4,
 "nbformat_minor": 0
}
