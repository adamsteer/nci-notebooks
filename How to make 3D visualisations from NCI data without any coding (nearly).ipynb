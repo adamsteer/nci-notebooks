{
 "cells": [
  {
   "cell_type": "markdown",
   "metadata": {},
   "source": [
    "## How to make a 3D web visualisation without a single line of code\n",
    "\n",
    "In this notebook we use QGIS to create a shareable terrain model with a data overlay, which can be shared on a web server, without typing a single line of code. Let's go!"
   ]
  },
  {
   "cell_type": "markdown",
   "metadata": {},
   "source": [
    "### 1. Decide on some datasets\n",
    "\n",
    "Let's use Canberra. We need:\n",
    "* a terrain model\n",
    "* some data - what about... false colour LandSAT imagery? or NVDI? or how about vegetation types?\n",
    "* some more data - how about OpenStreetMap buildings?"
   ]
  },
  {
   "cell_type": "markdown",
   "metadata": {},
   "source": [
    "### 2. Get the topography data and import into QGIS\n",
    "\n",
    "In this approach we download all our data from NCI to our machine (or could use it in the VDI), because we need to modify bands - which QGIS is not happy to do for web services (WMS or WCS).\n",
    "\n",
    "For topography we need a terrain model in a raster format, e.g. GeoTIFF, which covers Canberra. We can head to the NCI Elevation collection here:\n",
    "\n",
    "http://dapds00.nci.org.au/thredds/catalog/rr1/Elevation/catalog.html\n",
    "\n",
    "...and look for SRTM 1 second elevation - good enough for this job. If you are happy with ESRI grids, navigate to the tile collection here:\n",
    "\n",
    "http://dapds00.nci.org.au/thredds/catalog/rr1/Elevation/1secSRTM_DEMs_v1.0/DEM/Tiles/catalog.html\n",
    "\n",
    "Data are organised in folders named by longitide and latitude of the south west (bottom left) corner. For Canberra we need 149, -36.\n",
    "\n",
    "...and for now, this is probably the best method. We could make an OpenDAP or WCS request for a subset, but that would be coding! The pull of the dark side is strong - so here is a link that gets a GeoTIFF from the SRTM tile, using WCS:\n",
    "\n",
    "http://dapds00.nci.org.au/thredds/wcs/rr1/Elevation/NetCDF/1secSRTM_DEMs_v1.0/DEM/Elevation_1secSRTM_DEMs_v1.0_DEM_Tiles_e149s36dem1_0.nc?service=WCS&version=1.0.0&request=GetCoverage&Coverage=elevation&bbox=149.0,-36,149.9,-35&format=GeoTIFF\n",
    "\n",
    "Now, import the resulting GeoTIFF into QGIS as a raster data source."
   ]
  },
  {
   "cell_type": "markdown",
   "metadata": {},
   "source": [
    "### 3. Install a QGIS plugin and use it.\n",
    "\n",
    "This is seriously not coding - just head to the \"plugins\" menu, click \"manage and install plugins\", and find the Qgis2threejs plugin. Install it.\n",
    "\n",
    "Now zoom into the DEM so that it covers the entire display window, then head to the 'web' menu. Choose 'qgis2threejs'. In the resulting dialog box, click 'world' in the left pane, and find 'vertical exaggeration'. Set it to 10.\n",
    "\n",
    "In 'DEM', the one active layer (your GeoTIFF) should be preselected. Click 'run', and you should get a web browser opening with a 3D model inside!"
   ]
  },
  {
   "cell_type": "code",
   "execution_count": 12,
   "metadata": {
    "collapsed": false
   },
   "outputs": [
    {
     "data": {
      "text/html": [
       "<iframe width=\"800\" height=\"600\" frameborder=\"1\" scrolling =\"no\" src=\"./qgis2threejs/ACT_elevs_test_1.html\"></iframe>"
      ],
      "text/plain": [
       "<IPython.core.display.HTML object>"
      ]
     },
     "metadata": {},
     "output_type": "display_data"
    }
   ],
   "source": [
    "from IPython.core.display import display, HTML\n",
    "display(HTML('<iframe width=\"800\" height=\"600\" frameborder=\"1\" scrolling =\"no\" src=\"./qgis2threejs/ACT_elevs_test_1.html\"></iframe>'))"
   ]
  },
  {
   "cell_type": "markdown",
   "metadata": {},
   "source": [
    "### Kabooom! your first 3D interactive map, made with no coding and using web data services!\n",
    "\n",
    "...but it isn't very useful or informative. How can we fix that?"
   ]
  },
  {
   "cell_type": "markdown",
   "metadata": {},
   "source": [
    "## 4. MoAR DatAS!\n",
    "\n",
    "We might be interested in land cover attributes for our region, so let's get them! How about photosynthetic vegetation for 2015?\n",
    "\n",
    "http://dapds00.nci.org.au/thredds/catalog/ub8/au/FractCov/PV/catalog.html?dataset=ub8-au/FractCov/PV/FractCover.V3_0_1.2015.aust.005.PV.nc\n",
    "\n",
    "Using WCS again (look out - this is nearly coding...) - click on the WCS link, and look for a <name> tag - it says 'PV'. This is the coverage we need to get:\n",
    "\n",
    "http://dapds00.nci.org.au/thredds/wcs/ub8/au/FractCov/PV/FractCover.V3_0_1.2015.aust.005.PV.nc?service=WCS&version=1.0.0&request=GetCoverage&Coverage=PV&bbox=149.0,-36,149.9,-35&format=GeoTIFF\n",
    "\n",
    "Add the resulting layer to QGIS as a raster data source."
   ]
  },
  {
   "cell_type": "code",
   "execution_count": null,
   "metadata": {
    "collapsed": true
   },
   "outputs": [],
   "source": []
  }
 ],
 "metadata": {
  "kernelspec": {
   "display_name": "Python 3",
   "language": "python",
   "name": "python3"
  },
  "language_info": {
   "codemirror_mode": {
    "name": "ipython",
    "version": 3
   },
   "file_extension": ".py",
   "mimetype": "text/x-python",
   "name": "python",
   "nbconvert_exporter": "python",
   "pygments_lexer": "ipython3",
   "version": "3.5.2"
  }
 },
 "nbformat": 4,
 "nbformat_minor": 0
}
