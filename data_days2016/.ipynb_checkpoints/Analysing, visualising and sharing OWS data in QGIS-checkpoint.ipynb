{
 "cells": [
  {
   "cell_type": "markdown",
   "metadata": {},
   "source": [
    "## Analysing, visualising and sharing data using QGIS on the VDI\n",
    "\n",
    "In this notebook we use QGIS as a tool for interacting with data using NCI's web data services, and on the VDI filesystem. The program for this session is:\n",
    "\n",
    "1. Define a research question\n",
    "2. Determine which datasets we can use to investigate our question\n",
    "3. Obtain the data, and information about the data\n",
    "4. Load QGIS (Quantum GIS, http://qgis.org) on the VDI\n",
    "5. Get our data into QGIS\n",
    "6. Perform some basic analyses aimed at anwsering our question\n",
    "7. Visualised the results\n",
    "8. Share our work\n",
    "\n",
    "To interact with the maps we make below, view this notebook using the ipython notebook viewer:\n"
   ]
  },
  {
   "cell_type": "markdown",
   "metadata": {},
   "source": [
    "\n",
    "## 1. Define a research question\n",
    "\n",
    "Today's question is:\n",
    "\n",
    "#### *Are 'Block hilliness' and 'tree cover' in Canberra related?*\n",
    "\n",
    "This may be a proxy for the question:\n",
    "\n",
    "#### *Are people more likely to remove trees from flatter blocks than from hillier blocks?*\n",
    "\n"
   ]
  },
  {
   "cell_type": "markdown",
   "metadata": {},
   "source": [
    "## 2. Decide on some useful datasets\n",
    "\n",
    "To answer our question we need some data on topography, tree cover and where block boundaries are.\n",
    "\n",
    "From NCI's collections we can use:\n",
    "* A Shuttle Radar Topography Mission raster DEM at 1 arc-second resolution\n",
    "* 25 m tree cover data from LandSAT imagery at 25 m resolution\n",
    "\n",
    "NCI doesn't hold cadastral data, so we'll get those from the local land administrator:\n",
    "* ACT cadastral data outlining blocks (held outside NCI)\n",
    "\n",
    "*Note - here, we're defining 'blocks' as suburb-level features, not individual house blocks. Our elevation and tree cover data are too coarse for individual house blocks.*\n"
   ]
  },
  {
   "cell_type": "markdown",
   "metadata": {},
   "source": [
    "## 3. take a look at the data held at NCI\n",
    "\n",
    "Jingbo's catalogue stuff...\n",
    "\n"
   ]
  },
  {
   "cell_type": "markdown",
   "metadata": {},
   "source": [
    "## 4. Start QGIS on the VDI\n",
    "\n",
    "Like most VDI applications, we use the ```module load``` system:\n",
    "\n",
    "```\n",
    "module purge\n",
    "module load qgis/2.2.0 gdal/1.9.2\n",
    "qgis &\n",
    "```\n",
    "\n",
    "This will start QGIS - which we'll use shortly. For now, head to Firefox - we are off to discover some data!"
   ]
  },
  {
   "cell_type": "markdown",
   "metadata": {},
   "source": [
    "## 5. Get the topography data and vegetation data using Web Coverage Services\n",
    "\n",
    "In this approach we download all our data from NCI to our desktop using the OGC Web Coverage Service (WCS).\n",
    "\n",
    "We could also do the same tasks from the filesystem, we'll try that at the end of the session."
   ]
  },
  {
   "cell_type": "markdown",
   "metadata": {},
   "source": [
    "### Part 1: topography from SRTM tiles\n",
    "\n",
    "For topography we need a terrain model in a raster format, e.g. GeoTIFF, which covers Canberra. \n",
    "\n",
    "Shuttle Radar Topography Mission (SRTM) data are a good source of reasonably detailed elevation data held at NCI as NetCDF tiles.\n",
    "\n",
    "We can head to the NCI Elevation collection here:\n",
    "\n",
    "http://dapds00.nci.org.au/thredds/catalog/rr1/Elevation/catalog.html\n",
    "\n",
    "...and look for SRTM 1 second elevation as NetCDF. Browse to the NetCDF folder, click through to:\n",
    "\n",
    "http://dapds00.nci.org.au/thredds/catalog/rr1/Elevation/NetCDF/1secSRTM_DEMs_v1.0/DEM/catalog.html\n",
    "\n",
    "Data are organised in folders named by longitude and latitude of the south west (bottom left) corner. For Canberra we need 149, -36:\n",
    "\n",
    "http://dapds00.nci.org.au/thredds/catalog/rr1/Elevation/NetCDF/1secSRTM_DEMs_v1.0/DEM/catalog.html?dataset=rr1/Elevation/NetCDF/1secSRTM_DEMs_v1.0/DEM/Elevation_1secSRTM_DEMs_v1.0_DEM_Tiles_e149s36dem1_0.nc\n",
    "\n",
    "Click on the 'WCS' link to see the WCS getCapabilities statement - which describes the data you can obtain here. We need to know the name for the coverage we need - look for the 'name' tag. With that,and using our WCS knowledge, we can request just the part of the data we need and acquire a GeoTIFF image. Let's break a WCS request down into parts we need:\n",
    "\n",
    "* the path to the data: http://dapds00.nci.org.au/thredds/wcs/rr1/Elevation/NetCDF/1secSRTM_DEMs_v1.0/DEM/\n",
    "* the dataset: Elevation_1secSRTM_DEMs_v1.0_DEM_Tiles_e149s36dem1_0.nc\n",
    "* the service: service=WCS\n",
    "* the service version: version=1.0.0\n",
    "* the thing we want to do (get a coverage): request=GetCoverage\n",
    "* the coverage (or layer) we want to get: Coverage=elevation\n",
    "* the boundary of the layer we want: bbox=149.0,-36,149.9,-35\n",
    "* the format we want to get our coverage as: format=GeoTIFF_Float\n",
    "\n",
    "To build a WCS request we concatenate the data path and dataset name, put a question mark after the dataset name, then add the rest of the labels describing the thing we want afterward, in any order, separated by ampersands:\n",
    "\n",
    "http://dapds00.nci.org.au/thredds/wcs/rr1/Elevation/NetCDF/1secSRTM_DEMs_v1.0/DEM/Elevation_1secSRTM_DEMs_v1.0_DEM_Tiles_e149s36dem1_0.nc?service=WCS&version=1.0.0&request=GetCoverage&Coverage=elevation&bbox=149.0,-36,149.9,-35&format=GeoTIFF_Float\n",
    "\n",
    "Enter this link into a web browser to obtain a GeoTIFF DEM in your default download location (check in 'downloads'). Rename it to something memorable if you wish.\n",
    "\n",
    "*Note the use of GeoTIFF_Float - using only GeoTIFF is possible, but gives you an image with pixel values scaled to a colour range,m not a data range*\n",
    "\n",
    "Now go to QGIS and import the GeoTIFF as a raster layer:\n",
    "\n",
    "\n"
   ]
  },
  {
   "cell_type": "markdown",
   "metadata": {},
   "source": [
    "### Part B: Land cover data\n",
    "\n",
    "We repeat this process with our tree cover data, which comes from the ANU Water and Landscape Dynamics collection:\n",
    "\n",
    "http://dapds00.nci.org.au/thredds/catalog/ub8/au/treecover/catalog.html\n",
    "\n",
    "We'll look at 2015:\n",
    "\n",
    "http://dapds00.nci.org.au/thredds/catalog/ub8/au/treecover/catalog.html?dataset=ub8-au/treecover/ANUWALD.TreeCover.25m.2015.nc\n",
    "\n",
    "Using WCS again - click on the WCS link, and look for a <name> tag - it says 'PV'. This is the coverage we need to get. So we form a WCS request like this:\n",
    "\n",
    "* the path to the data: http://dapds00.nci.org.au/thredds/wcs/ub8/au/treecover/ANUWALD.TreeCover.25m.2015.nc\n",
    "* the dataset: ANUWALD.TreeCover.25m.2015.nc\n",
    "* the service: service=WCS\n",
    "* the service version: version=1.0.0\n",
    "* the thing we want to do (get a coverage): request=GetCoverage\n",
    "* the coverage (or layer) we want to get: Coverage=TreeCover\n",
    "* the boundary of the layer we want: bbox=149.0,-36,149.9,-35\n",
    "* the format we want to get our coverage as: format=GeoTIFF_Float\n",
    "\n",
    "...which are assembled into a WCS request:\n",
    "\n",
    "http://dapds00.nci.org.au/thredds/wcs/ub8/au/treecover/ANUWALD.TreeCover.25m.2015.nc?service=WCS&version=1.0.0&request=GetCoverage&Coverage=TreeCover&bbox=149.0,-36,149.9,-35&format=GeoTIFF_Float\n",
    "\n",
    "Again, using this link in a web browser will result in a GeoTIFF file arriving at your default download location. Load it into QGIS:\n",
    "\n",
    "![Import WCS image to QGIS](./qgis_threejs/load_veg_annot.png \"Load vegetation layer\")\n"
   ]
  },
  {
   "cell_type": "markdown",
   "metadata": {},
   "source": [
    "<div class=\"panel panel-info\">\n",
    "<div class=\"panel-heading\">Q & A</div>\n",
    "<div class=\"panel-body\">\n",
    "Why not just use the  QGIS OWS browser to grab these data?</p>\n",
    "<p>\n",
    "<ol>\n",
    "<li>The QGIS OWS browser and THREDDS don't play well - QGIS attenuates the full WCS URL, and THREDDS doesn't provide > a WCS GetCapabilities which QGIS is happy to use.</li>\n",
    "<li>OWS layers can't be used for processing - ie band math, and the visualisation tools we're about to use.</li>\n",
    "</ol>\n",
    "<p>\n",
    "If you're keen, try it out - grab some OWS services and go for it!</p>\n",
    "\n",
    "</div>\n",
    "</div>\n",
    "\n",
    "<div class=\"panel panel-success\">\n",
    "<div class=\"panel-heading\">Challenge question:</div>\n",
    "<div class=\"panel-body\">\n",
    "<p>\n",
    "How could you automagically save WCS data with sane, memorable names?</p>\n",
    "</div>\n",
    "</div>"
   ]
  },
  {
   "cell_type": "markdown",
   "metadata": {},
   "source": [
    "## 4. Find our cadastral data and import it into QGIS\n",
    "\n",
    "ACT publish a lot of spatial data on their ACTMAPi interface. To shortcut, here are the cadastral block data:\n",
    "\n",
    "http://actmapi.actgov.opendata.arcgis.com/datasets/afa1d909a0ae427cb9c1963e0d2e80ca_4\n",
    "\n",
    "You can download a shapefile and import it to QGIS, but let's show a feature you might like to use: adding vector data as a service. At ACTMAPi, click the 'API' menu box, and copy the URL out of the GeoJSON tetxtbox:\n",
    "\n",
    "http://actmapi.actgov.opendata.arcgis.com/datasets/afa1d909a0ae427cb9c1963e0d2e80ca_4.geojson\n",
    "\n",
    "In QGIS, Click 'add new vector layer', select  the 'service' radio button, and past the URL in. The layer will load - but like raster data, it can't be used for analysis. Save it as a shapefile and reload the layer (delete the GeoJSON layer).\n",
    "\n",
    "![Import WCS image to QGIS](./qgis_threejs/load_dem_annot.png \"Load DEM\")"
   ]
  },
  {
   "cell_type": "markdown",
   "metadata": {},
   "source": [
    "## 5. Style our layers in QGIS\n",
    "\n",
    "Map styling in QGIS is simple. To make the rest of this exercise work, we need to:\n",
    "\n",
    "1. Put the elevation layer on the bottom of the stack\n",
    "2. Put the ACTMAPi vector data on the top of the stack\n",
    "\n",
    "(pic)\n",
    "\n",
    "...and then:\n",
    "\n",
    "1. Choose a pretty colour scheme for our tree cover data\n",
    "\n",
    "(pic)\n",
    "\n",
    "Next, we will take a more interactive look at our data."
   ]
  },
  {
   "cell_type": "markdown",
   "metadata": {},
   "source": [
    "## 6. Install two useful QGIS plugins\n",
    "\n",
    "Zonal Statistics\n",
    "QGIS2threejs"
   ]
  },
  {
   "cell_type": "markdown",
   "metadata": {},
   "source": [
    "## 7. Make our first interactive map\n",
    "\n",
    "Now that we have some pretty map layers, let's take a better look at them in three dimensions.\n",
    "\n",
    "Zoom in so that your map covers the entire display window, then head to the 'web' menu. Choose 'qgis2threejs'. In the resulting dialog box, click 'world' in the left pane, and find 'vertical exaggeration'. Set it to 10.\n",
    "\n",
    "In 'DEM', the one active layer (your GeoTIFF) should be preselected. Click 'run', and you should get a web browser opening with a 3D model inside!\n",
    "\n",
    "The expected output is shown below - try viewing the notebook here:\n",
    "\n",
    "http://nbviewer.jupyter.org/github/adamsteer/nci-notebooks/blob/master/How%20to%20make%203D%20visualisations%20from%20NCI%20data%20without%20any%20coding%20%28nearly%29.ipynb\n",
    "\n",
    "...you should be able to move the map, zoom in and out, and generally inspect a terrain model.\n"
   ]
  },
  {
   "cell_type": "code",
   "execution_count": null,
   "metadata": {
    "collapsed": true
   },
   "outputs": [],
   "source": []
  },
  {
   "cell_type": "code",
   "execution_count": 15,
   "metadata": {
    "collapsed": false
   },
   "outputs": [
    {
     "data": {
      "text/html": [
       "<iframe width=\"800\" height=\"600\" frameborder=\"1\" scrolling =\"no\"              src=\"./qgis2threejs/ACT_elevs_test_1.html\"></iframe>"
      ],
      "text/plain": [
       "<IPython.core.display.HTML object>"
      ]
     },
     "metadata": {},
     "output_type": "display_data"
    }
   ],
   "source": [
    "###ignore this block of code - it is required only to show the map in iPython - you won't need it!\n",
    "from IPython.core.display import display, HTML\n",
    "display(HTML('<iframe width=\"800\" height=\"600\" frameborder=\"1\" scrolling =\"no\" \\\n",
    "             src=\"./qgis2threejs/ACT_elevs_test_1.html\"></iframe>'))"
   ]
  },
  {
   "cell_type": "markdown",
   "metadata": {
    "collapsed": true
   },
   "source": [
    "## 8. Now lets do some analysis!\n",
    "\n",
    "We will try to show:\n",
    "\n",
    "* Standard deviaton of elevation of blocks as a proxy for hilliness, plotted as a volume on the elevation map\n",
    "* Sum of tree cover for each block, also as a volume on the map\n",
    "\n",
    "We need the second plugin we installed here - zonal statistics. This collects data from raster layers using polygons in a vector layer and computes basic statistics for each polygon.\n",
    "\n",
    "#### Part 1: Block hilliness\n",
    "\n",
    "As a proxy for block hilliness, we'll use the standard deviation of elevation in each block polygon.\n",
    "\n",
    "In the zonal statistics plugin dialogue, choose the DEM as the raster layer, and use band 1. Then choose your ACT blocks vector layer. In the statistics to calculate, pick an appropriate set - but include *standard deviation* - this is our roughness proxy.\n",
    "\n",
    "#### Part 2: Tree cover per block\n",
    "\n",
    "For tree cover, each grid cell/pixel shows a percentage of tree cover. As a quick measure we could sum all the pixel values inside a block to get an idea of it's tree cover percentage relative to other blocks.\n",
    "\n",
    "In the zonal statistics plugin dialogue, choose the DEM as the raster layer, and use band 1. Then choose your ACT blocks vector layer. In the statistics to calculate, pick an appropriate set - but include *sum* - this is our tree cover proxy."
   ]
  },
  {
   "cell_type": "markdown",
   "metadata": {},
   "source": [
    "<div class=\"panel panel-success\">\n",
    "<div class=\"panel-heading\">Challenge question:</div>\n",
    "<div class=\"panel-body\">\n",
    "\n",
    "is a graphic GIS the only way to collect zonal statistics using a vector layer to segment raster data?\n",
    "\n",
    "</div>\n",
    "</div>"
   ]
  },
  {
   "cell_type": "markdown",
   "metadata": {},
   "source": [
    "## 9. Visualising our results\n",
    "\n",
    "We have some elevation data, we have some cadastral data, we have some data about photosynthetic vegetation cover. We can do our quick visualisation of whether block hilliness (as determined by SRTM height standard deviation for each block) is related to photosynthetic vegetation cover (as determined by the median of vegetation cover inside each block). We can set this up as follows:\n",
    "\n",
    "* classify and colour blocks by vegetation cover\n",
    "* visualise block hilliness as the height of an extruded column\n",
    "\n",
    "In this scheme, if our hypothesis is that hillier blocks are less cleared, dark green blocks will visualise as taller columns. Lets test it out!"
   ]
  },
  {
   "cell_type": "code",
   "execution_count": 5,
   "metadata": {
    "collapsed": false
   },
   "outputs": [
    {
     "data": {
      "text/html": [
       "<iframe width=\"800\" height=\"600\" frameborder=\"1\" scrolling =\"no\" src=\"./qgis2threejs/veg_mean_colours.html\"></iframe>"
      ],
      "text/plain": [
       "<IPython.core.display.HTML object>"
      ]
     },
     "metadata": {},
     "output_type": "display_data"
    }
   ],
   "source": [
    "display(HTML('<iframe width=\"800\" height=\"600\" frameborder=\"1\" scrolling =\"no\" src=\"./qgis2threejs/veg_mean_colours.html\"></iframe>'))"
   ]
  },
  {
   "cell_type": "markdown",
   "metadata": {},
   "source": [
    "## 10. So what do our results mean?\n",
    "\n",
    "If hilly blocks have generally more trees than flatter blocks, short columns should be lighter shades of green (in this colour scheme).\n",
    "\n",
    "\n"
   ]
  },
  {
   "cell_type": "markdown",
   "metadata": {},
   "source": [
    "<div class=\"panel panel-warning\">\n",
    "<div class=\"panel-heading\">Extension activities</div>\n",
    "\n",
    "\n",
    "<div class=\"panel-body\">\n",
    "\n",
    "<ol>\n",
    "<li>Update your map to show satellite imagery from, for example, OpenStreetMap. Create a new model and see if you can visually confirm the results of the analysis.</li>\n",
    "<li>Create a totally new interactive 3D model using the stack we've just been working with, and give us a URL to see your work!</li>\n",
    "</ol>\n",
    "\n",
    "</div>\n",
    "</div>"
   ]
  },
  {
   "cell_type": "markdown",
   "metadata": {
    "collapsed": true
   },
   "source": [
    "## 11. Sharing our new map\n",
    "\n",
    "The folder you just created using QGIS2threeJS can be dropped into any web server - even a github.io page - to share with collaborators. \n",
    "\n",
    "You can't serve data directly from the VDI - but you can copy your results to some web host (eg github.io). Here's an example:\n",
    "\n",
    "(sample URL here)\n",
    "\n",
    "What are some other ways to share QGIS projects?\n"
   ]
  },
  {
   "cell_type": "markdown",
   "metadata": {
    "collapsed": true
   },
   "source": [
    "<div class=\"panel panel-success\">\n",
    "<div class=\"panel-heading\">Challenge question possible solutions</div>\n",
    "\n",
    "<div class=\"panel-body\">\n",
    "<h3>Sane WCS coverage request names</h3>\n",
    "<p>\n",
    "One option is to use curl on the command line:</p>\n",
    "<p>\n",
    "<code>curl -o SRTM_dem_139_36.tiff 'http://dapds00.nci.org.au/thredds/wcs/ub8/au/FractCov/PV/FractCover.V3_0_1.2015.aust.005.PV.nc?service=WCS&version=1.0.0&Request=GetCoverage&Coverage=PV&bbox=149.0,-36,149.9,-35&format=GeoTIFF_Float'</code>\n",
    "<br/>\n",
    "\n",
    "<code>\n",
    "curl -o 2015_treecover_139_36.tiff 'http://dapds00.nci.org.au/thredds/wcs/ub8/au/FractCov/PV/FractCover.V3_0_1.2015.aust.005.PV.nc?service=WCS&version=1.0.0&Request=GetCoverage&Coverage=PV&bbox=149.0,-36,149.9,-35&format=GeoTIFF_Float'</code></p>\n",
    "\n",
    "<p>\n",
    "...are there others? What was yours?</p>\n",
    "\n",
    "<h3>Zonal statistics right in a notebook</h3>\n",
    "<p>\n",
    "You could also try rasterstats: https://github.com/perrygeo/python-rasterstats - any other suggestions?</p>\n",
    "\n",
    "<h3>Other ways to share your QGIS projects, and other 3D visualisers</h3>\n",
    "<p>\n",
    "For simple projects with CCBY4.0 data, the QGIS cloud is one way of sharing your results. Another is a Jupyter notebook hosted on github as a gist, a notebook, or as a github.io page. What was your approach?</p>\n",
    "<p>\n",
    "Loading OWS data is also possible in hosted 3D visualisers, for example NationalMap. Here's a sample of some XXXX data from NCI visualised using the NationalMap interface: (url) . What else do you use?</p>\n",
    "\n",
    "</div>\n",
    "</div>"
   ]
  },
  {
   "cell_type": "code",
   "execution_count": null,
   "metadata": {
    "collapsed": true
   },
   "outputs": [],
   "source": []
  }
 ],
 "metadata": {
  "kernelspec": {
   "display_name": "Python 3",
   "language": "python",
   "name": "python3"
  },
  "language_info": {
   "codemirror_mode": {
    "name": "ipython",
    "version": 3
   },
   "file_extension": ".py",
   "mimetype": "text/x-python",
   "name": "python",
   "nbconvert_exporter": "python",
   "pygments_lexer": "ipython3",
   "version": "3.5.2"
  }
 },
 "nbformat": 4,
 "nbformat_minor": 0
}
