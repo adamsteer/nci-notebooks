{
 "cells": [
  {
   "cell_type": "markdown",
   "metadata": {},
   "source": [
    "## Analysing, visualising and sharing data using QGIS on the VDI\n",
    "\n",
    "In this notebook we use QGIS as a tool for interacting with data using NCI's web data services, and on the VDI filesystem. The program for this session is:\n",
    "\n",
    "1. Define a research question\n",
    "2. Determine which datasets we can use to investigate our question\n",
    "3. Obtain the data, and information about the data\n",
    "4. Load QGIS (Quantum GIS, http://qgis.org) on the VDI\n",
    "5. Get our data into QGIS\n",
    "6. Perform some basic analyses aimed at anwsering our question\n",
    "7. Visualised the results\n",
    "8. Share our work\n",
    "\n",
    "To interact with the maps we make below, view this notebook using the ipython notebook viewer:\n"
   ]
  },
  {
   "cell_type": "markdown",
   "metadata": {},
   "source": [
    "\n",
    "## 1. Define a research question\n",
    "\n",
    "For this session the research question set is:\n",
    "\n",
    "#### *How are the 'hilliness' of suburban areas and and 'vegetation levels' in Canberra related?; and are hiller regions more or less vegetated than flatter regions?*"
   ]
  },
  {
   "cell_type": "markdown",
   "metadata": {},
   "source": [
    "## 2. Decide on some useful datasets\n",
    "\n",
    "To answer our question we need some data on topography, vegetation and where block boundaries are.\n",
    "\n",
    "From NCI's collections we can use:\n",
    "* A Shuttle Radar Topography Mission raster DEM at 1 arc-second resolution\n",
    "* Some vegetation indices from the ANU Water and Landscape Dynamics collection - how about photosynthetic vegetation cover.\n",
    "\n",
    "NCI doesn't hold cadastral data, so we'll get those from the local land administrator:\n",
    "* ACT cadastral data outlining sections (held outside NCI)\n",
    "\n",
    "*Note - here, sections are collections of 50 or so individual house blocks. Our elevation and tree cover data are too coarse for individual house blocks - and the vector data file for blocks is massive!*\n"
   ]
  },
  {
   "cell_type": "markdown",
   "metadata": {},
   "source": [
    "## 3. take a look at the data held at NCI\n",
    "\n",
    "Jingbo's catalogue stuff...\n",
    "\n"
   ]
  },
  {
   "cell_type": "markdown",
   "metadata": {},
   "source": [
    "## 4. Start QGIS on the VDI\n",
    "\n",
    "Like most VDI applications, we use the ```module load``` system:\n",
    "\n",
    "```\n",
    "module purge\n",
    "module load qgis/2.2.0 gdal/1.9.2\n",
    "qgis &\n",
    "```\n",
    "\n",
    "This will start QGIS - which we'll use shortly. For now, head to Firefox - we are off to discover some data!"
   ]
  },
  {
   "cell_type": "markdown",
   "metadata": {},
   "source": [
    "## 5. Get data using Web Coverage Services\n",
    "\n",
    "In this approach we download all our data from NCI to our desktop using the OGC Web Coverage Service (WCS).\n",
    "\n",
    "We could also do the same tasks from the filesystem - we'll cover that in another notebook!"
   ]
  },
  {
   "cell_type": "markdown",
   "metadata": {},
   "source": [
    "### a. topography from SRTM tiles\n",
    "\n",
    "For topography we need a terrain model in a raster format, e.g. GeoTIFF, which covers Canberra. \n",
    "\n",
    "Shuttle Radar Topography Mission (SRTM) data are a good source of reasonably detailed elevation data held at NCI as NetCDF tiles.\n",
    "\n",
    "We can head to the NCI Elevation collection here:\n",
    "\n",
    "http://dapds00.nci.org.au/thredds/catalog/rr1/Elevation/catalog.html\n",
    "\n",
    "...and look for SRTM 1 second elevation as NetCDF. Browse to the NetCDF folder, click through to:\n",
    "\n",
    "http://dapds00.nci.org.au/thredds/catalog/rr1/Elevation/NetCDF/1secSRTM_DEMs_v1.0/DEM/catalog.html\n",
    "\n",
    "Data are organised in folders named by longitude and latitude of the south west (bottom left) corner. For Canberra we need 149, -36:\n",
    "\n",
    "http://dapds00.nci.org.au/thredds/catalog/rr1/Elevation/NetCDF/1secSRTM_DEMs_v1.0/DEM/catalog.html?dataset=rr1/Elevation/NetCDF/1secSRTM_DEMs_v1.0/DEM/Elevation_1secSRTM_DEMs_v1.0_DEM_Tiles_e149s36dem1_0.nc\n",
    "\n",
    "Click on the 'WCS' link to see the WCS getCapabilities statement - which describes the data you can obtain here. We need to know the name for the coverage we need - look for the 'name' tag. With that,and using our WCS knowledge, we can request just the part of the data we need and acquire a GeoTIFF image. Let's break a WCS request down into parts we need:\n",
    "\n",
    "* the path to the data: http://dapds00.nci.org.au/thredds/wcs/rr1/Elevation/NetCDF/1secSRTM_DEMs_v1.0/DEM/\n",
    "* the dataset: Elevation_1secSRTM_DEMs_v1.0_DEM_Tiles_e149s36dem1_0.nc\n",
    "* the service: service=WCS\n",
    "* the service version: version=1.0.0\n",
    "* the thing we want to do (get a coverage): request=GetCoverage\n",
    "* the coverage (or layer) we want to get: Coverage=elevation\n",
    "* the boundary of the layer we want: bbox=149.0,-36,149.9,-35\n",
    "* the format we want to get our coverage as: format=GeoTIFF_Float\n",
    "\n",
    "To build a WCS request we concatenate the data path and dataset name, put a question mark after the dataset name, then add the rest of the labels describing the thing we want afterward, in any order, separated by ampersands:\n",
    "\n",
    "http://dapds00.nci.org.au/thredds/wcs/rr1/Elevation/NetCDF/1secSRTM_DEMs_v1.0/DEM/Elevation_1secSRTM_DEMs_v1.0_DEM_Tiles_e149s36dem1_0.nc?service=WCS&version=1.0.0&request=GetCoverage&Coverage=elevation&bbox=149.0,-36,149.9,-35&format=GeoTIFF_Float\n",
    "\n",
    "Enter this link into a web browser to obtain a GeoTIFF DEM in your default download location (check in 'downloads'). Rename it to something memorable if you wish.\n",
    "\n",
    "*Note the use of GeoTIFF_Float - using only GeoTIFF is possible, but gives you an image with pixel values scaled to a colour range,m not a data range*\n",
    "\n",
    "Now go to QGIS and import the GeoTIFF as a raster layer:\n",
    "\n",
    "![Import WCS image to QGIS](./qgis.images/add_raster_layer.jpg \"Find and load WCS raster\")\n",
    "\n",
    "![Show WCS layer in QGIS](./qgis.images/elevation_map_layer.jpg \"Show elevation map\")\n",
    "\n",
    "\n"
   ]
  },
  {
   "cell_type": "markdown",
   "metadata": {},
   "source": [
    "### b. Land cover data\n",
    "\n",
    "We repeat this process with data on photosynthetically active vegetation, which comes from the ANU Water and Landscape Dynamics collection:\n",
    "\n",
    "http://dapds00.nci.org.au/thredds/catalog/ub8/au/FractCov/PV/catalog.html\n",
    "\n",
    "We'll look at 2015:\n",
    "\n",
    "http://dapds00.nci.org.au/thredds/catalog/ub8/au/FractCov/PV/catalog.html?dataset=ub8-au/FractCov/PV/FractCover.V3_0_1.2015.aust.005.PV.nc\n",
    "\n",
    "Using WCS again - click on the WCS link, and look for a <name> tag - it says 'PV'. This is the coverage we need to get. So we form a WCS request like this:\n",
    "\n",
    "* the path to the data: http://dapds00.nci.org.au/thredds/wcs/ub8/au/FractCov/PV/\n",
    "* the dataset: FractCover.V3_0_1.2015.aust.005.PV.nc\n",
    "* the service: service=WCS\n",
    "* the service version: version=1.0.0\n",
    "* the thing we want to do (get a coverage): request=GetCoverage\n",
    "* the coverage (or layer) we want to get: Coverage=TreeCover\n",
    "* the boundary of the layer we want: bbox=149.0,-36,149.9,-35\n",
    "* the format we want to get our coverage as: format=GeoTIFF_Float\n",
    "\n",
    "...which are assembled into a WCS request:\n",
    "\n",
    "http://dapds00.nci.org.au/thredds/wcs/ub8/au/FractCov/PV/FractCover.V3_0_1.2015.aust.005.PV.nc?service=WCS&version=1.0.0&request=GetCoverage&Coverage=PV&bbox=149.0,-36,149.9,-35&format=GeoTIFF_Float\n",
    "\n",
    "Again, using this link in a web browser will result in a GeoTIFF file arriving at your default download location. Load it into QGIS:\n",
    "\n",
    "![Show vegetation map](./qgis.images/veg_map_layer.jpg \"Vegetation map\")"
   ]
  },
  {
   "cell_type": "markdown",
   "metadata": {},
   "source": [
    "## 6. Style our vegetation layer\n",
    "\n",
    "So far we have a bunch of grey things - let's make them colourful!\n",
    "\n",
    "We don't need to worry about the elevation data, but we do need a useful colour scheme for vegetation data and our cadastral data. Double click your vegetation layer (in the layers panel) to bring up it's properties dialogue. From there:\n",
    "\n",
    "1. Click 'style'\n",
    "2. In the 'render type' dropdown, choose 'Singleband pseudocolor'\n",
    "3. Leave interpolation as 'linear', and pick a colour palette. Because the data are continuous, a single hue continuous colour palette makes sense. Because it's vegetation, green also makes sense. Choose what makes sense to you.\n",
    "4. Click 'classify' to show the palette in the big window, and apply with with 'apply'.\n",
    "5. Click 'close' to return to your map.\n",
    "\n",
    "![Style vegetation layer](./qgis.images/style_veg_layer.jpg \"Style vegetation layer\")\n",
    "\n",
    "(image above missing 'classify' step)\n",
    "\n",
    "![Styled vegetation layer](./qgis.images/veg_layer_green.jpg \"Styled vegetation layer\")"
   ]
  },
  {
   "cell_type": "markdown",
   "metadata": {},
   "source": [
    "<div class=\"alert alert-success\">\n",
    "<h3>Extension:</h3>\n",
    "<p>\n",
    "Steaming ahead? Add a graticule to your QGIS map layer...</p>\n",
    "\n",
    "<h3>Challenge question:</h3>\n",
    "<p>\n",
    "How could you automagically save WCS data with sane, memorable names?</p>\n",
    "\n",
    "</div>\n",
    "\n",
    "<div class=\"alert alert-info\">\n",
    "<h3>Q & A</h3>\n",
    "<p>\n",
    "Why not just use the  QGIS OWS browser to grab these data?</p>\n",
    "<p>\n",
    "<ol>\n",
    "<li>The QGIS WCS browser and THREDDS don't play well - QGIS attenuates the full THREDDS WCS URL, so it is far more convenient to form a request independently of QGIS.</li>\n",
    "<li>OWS layers can't be used for processing - ie band math, and the visualisation tools we're about to use.</li>\n",
    "</ol>\n",
    "<p>\n",
    "If you're keen, do some exploring - we don't know *everything* about QGIS - surprise us!</p>\n",
    "</div>"
   ]
  },
  {
   "cell_type": "markdown",
   "metadata": {},
   "source": [
    "## 7. Find our cadastral data and import it into QGIS\n",
    "\n",
    "ACT publish a lot of spatial data on their ACTMAPi interface. To shortcut, here are the cadastral section data:\n",
    "\n",
    "http://actmapi.actgov.opendata.arcgis.com/datasets/eedcda7873934e789093b093521b0299_3\n",
    "\n",
    "You can download a shapefile and import it to QGIS, but let's show a feature you might like to use: adding vector data as a service. At ACTMAPi, click the 'API' menu box, and copy the URL out of the GeoJSON tetxtbox:\n",
    "\n",
    "http://actmapi.actgov.opendata.arcgis.com/datasets/eedcda7873934e789093b093521b0299_3.geojson\n",
    "\n",
    "In QGIS, Click 'add new vector layer', select  the 'protocol' radio button, and past the URL in. The layer will load - but like raster data, it can't be used for analysis. Save it as a Geopackage and reload the layer (delete the GeoJSON layer).\n",
    "\n",
    "![Save JSON layer as geopackage](./qgis.images/save_GeoPackage.jpg \"Save JSON layer as geopackage\")"
   ]
  },
  {
   "cell_type": "markdown",
   "metadata": {},
   "source": [
    "<div class=\"alert alert-success\">\n",
    "<h3>Extension:</h3>\n",
    "<p>\n",
    "Why Geopackage? Why not a shapefile?<br />\n",
    "<i>Hint: http://www.geopackage.org</i></p>\n",
    "</div>\n"
   ]
  },
  {
   "cell_type": "markdown",
   "metadata": {},
   "source": [
    "## 8. Install two useful QGIS plugins\n",
    "\n",
    "To procees we need to install two QGIS plugins - **Zonal statistics** and **Qgis2threejs**:\n",
    "1. head to the 'plugins' menu and choose 'manage and install plugins'\n",
    "2. in the resulting dialogue box, search for 'zonal statistics'\n",
    "3. select the 'Zonal statistics plugin' and click 'install'.\n",
    "\n",
    "Do the same for a plugin named 'Qgis2threejs'."
   ]
  },
  {
   "cell_type": "markdown",
   "metadata": {
    "collapsed": true
   },
   "source": [
    "## 9. Now lets do some analysis!\n",
    "\n",
    "We will try to show:\n",
    "\n",
    "* Standard deviaton of elevation of blocks as a proxy for hilliness, plotted as a volume on the elevation map\n",
    "* Sum of photosynthetic vegetation present for each block, also as a volume on the map\n",
    "\n",
    "We start with Zonal statistics. This collects data from raster layers using polygons in a vector layer and computes basic statistics for each polygon.\n",
    "\n",
    "### a. Section hilliness\n",
    "\n",
    "As a proxy for section hilliness, we'll use the standard deviation of elevation in each block polygon.\n",
    "\n",
    "Head to **raster -> zonal stats** to open the plugin.\n",
    "\n",
    "In the zonal statistics plugin dialogue, choose the DEM as the raster layer, and use band 1. Then choose your ACT blocks vector layer. In the statistics to calculate, pick an appropriate set - but include *standard deviation* - this is our roughness proxy. Add a meaningful prefix to the statistics (e.g. 'dem_'), so you can find them when you need to use them.\n",
    "\n",
    "![HIllines using zonal statistics](./qgis.images/hilliness_zonalstats.jpg \"Zonal stats example\")\n",
    "\n",
    "QGIS will spend some time calculating stats for each block - grab a cup of tea!\n",
    "\n",
    "\n",
    "### b. Vegetation per block\n",
    "\n",
    "For vegetation cover, each grid cell/pixel shows a percentage of photosynthetically active vegetation. As a quick measure we could sum all the pixel values inside a block to get an idea of it's vegetation coverage relative to other blocks.\n",
    "\n",
    "In the zonal statistics plugin dialogue, choose the DEM as the raster layer, and use band 1. Then choose your ACT sections vector layer. In the statistics to calculate, the values we need are preselected - we'll use the mean value for each section. Again, use a meaningful prefix (for example, 'veg_')\n",
    "\n",
    "### c. Use vegetation per block to style our vector layer\n",
    "\n",
    "We avoided styling our vector layer earlier, but now it's time. Double click your act_sections layer to open it's properties dialogue, and head to the style tab. Here, we want to apply a good looking colour scale based on mean vegetation cover (the data we just generated). Set up as follows:\n",
    "\n",
    "![Styling vector sections](./qgis.images/section_style_setup.jpg \"Section styling example\")\n",
    "\n",
    "...to get the result below.\n",
    "\n",
    "![Styling vector sections](./qgis.images/section_style_result.jpg \"Section styling example\")\n",
    "\n",
    "\n",
    "The styles applied here will be used when we make our interactive map, in the next step!"
   ]
  },
  {
   "cell_type": "markdown",
   "metadata": {},
   "source": [
    "<div class=\"alert alert-success\">\n",
    "<h3>Challenge question:</h3>\n",
    "<p>\n",
    "is a graphic GIS the only way to collect zonal statistics using a vector layer to segment raster data?</p>\n",
    "</div>"
   ]
  },
  {
   "cell_type": "markdown",
   "metadata": {},
   "source": [
    "## 10. Visualising our results\n",
    "\n",
    "We have some elevation data, we have some cadastral data, we have some data about photosynthetic vegetation cover. We can do our quick visualisation of whether block hilliness (as determined by SRTM height standard deviation for each block) is related to photosynthetic vegetation cover (as determined by the median of vegetation cover inside each block). We can set this up as follows:\n",
    "\n",
    "* classify and colour blocks by vegetation cover\n",
    "* visualise block hilliness as the height of an extruded column\n",
    "\n",
    "In this scheme, if hillier blocks are more vegetated, dark green blocks will visualise as taller columns. If hiller blocks are less vegetated, light green blocks will visualise as taller columns. Lets test it out!\n",
    "\n",
    "Here we use the second plugin - **Qgis2threejs**. This renders the current screen to a WebGL map in a browser using three.js - with some neat data visualisation features.\n",
    "\n",
    "### a. Setting up\n",
    "\n",
    "So far we've worked in a WGS84 (EPSG:4326) coordinate system - but in order to render our map in three.js, we need to project our data into something which has units of metres, not degrees. Let's choose GDA94/MGA55 (EPSG:28355):\n",
    "\n",
    "1. Locate the panel at the lower right of the QGIS window which says 'EPSG:4326'\n",
    "2. Click it to open a CRS selection dialog\n",
    "3. Select 'Enable 'on the fly' CRS transformation (OTF)' at the top right\n",
    "4. Enter 'MGA 55' in the 'filter' box, then highlight GDA94 /MGA 55 in the 'coordinate systems of the world...' box. It should show up in the 'selected CRS' panel.\n",
    "5. Click OK.\n",
    "\n",
    "![Set OTF CRS](./qgis.images/set_otf_crs.jpg \"Set OTF transformation\")\n",
    "\n",
    "You'll see that everything has warped a touch, and your CRS panel (lower right) reflects your choice. Proj.4 handles all the rest for you!\n",
    "\n",
    "\n",
    "### b. Set a clipping frame\n",
    "\n",
    "Qgis2threejs attempts to render the whole map window as webGL. We want to limit or map to the extents of our DEM - so we can either zoom the map window in so that our region of interes occupies the whole window, or set a clipping polygon in a new vector layer. Here, we zoom in so that our region of interest fills the map window:\n",
    "\n",
    "\n",
    "\n",
    "\n",
    "### c. Setting up in Qgis2threejs\n",
    "\n",
    "Head to **web -> Qgis2threejs** to open the plugin dialogue.\n",
    "\n",
    "(some screebgrabs showing qgis2threejs setup)\n",
    "\n",
    "\n",
    "\n",
    "\n",
    "\n",
    "### d. show the map!"
   ]
  },
  {
   "cell_type": "code",
   "execution_count": 6,
   "metadata": {
    "collapsed": false
   },
   "outputs": [
    {
     "data": {
      "text/html": [
       "<iframe width=\"800\" height=\"600\" frameborder=\"1\" scrolling=\"no\" src=\"./qgis2threejs/veg_by_hilliness.html\"></iframe>"
      ],
      "text/plain": [
       "<IPython.core.display.HTML object>"
      ]
     },
     "metadata": {},
     "output_type": "display_data"
    }
   ],
   "source": [
    "###ignore this block of code - it is required only to show the map in iPython - you won't need it!\n",
    "from IPython.core.display import display, HTML\n",
    "display(HTML('<iframe width=\"800\" height=\"600\" frameborder=\"1\" scrolling=\"no\" src=\"./qgis2threejs/veg_by_hilliness.html\"></iframe>'))"
   ]
  },
  {
   "cell_type": "markdown",
   "metadata": {},
   "source": [
    "## 11. So what do our results mean?\n",
    "\n",
    "If hilly blocks have generally more vegetation than flatter blocks, short columns should be lighter shades of green (in this colour scheme).\n",
    "\n",
    "...but that's not what we see! Why not?\n",
    "\n",
    "...and are we using the right data?\n"
   ]
  },
  {
   "cell_type": "markdown",
   "metadata": {},
   "source": [
    "<div class=\"alert alert-success\">\n",
    "<h3>Extension activities</h3>\n",
    "\n",
    "<ol>\n",
    "<li>Choose a different dataset to analyse - using OWS or from the filesystem.</li>\n",
    "<li>Update your map to show satellite imagery from, for example, OpenStreetMap. Create a new model and see if you can visually confirm the results of the analysis.</li>\n",
    "<li>Create a totally new interactive 3D model using the stack we've just been working with, and give us a URL to see your work!</li>\n",
    "</ol>\n",
    "\n",
    "</div>\n",
    "\n",
    "<div class=\"alert alert-warning\">\n",
    "<h3>Data choices</h3>\n",
    "<p>\n",
    "25 m resolution tree cover data exist in the same collection we used for vegetation cover. Why did we not use those data to estimate something more clear cut, like 'tree cover by hilliness'?</p>\n",
    "<p>\n",
    "Take a look in the ANU WALD catalogue, find some tree cover data and find out why we could not pull it as a web service.</p>\n",
    "<p>\n",
    "<b>Bonus points</b> - we are on the VDI, which means we don't *need* to use WCS. Make a map of tree cover by hilliness!</p>\n",
    "</div>"
   ]
  },
  {
   "cell_type": "markdown",
   "metadata": {
    "collapsed": true
   },
   "source": [
    "## 12. Sharing our new map\n",
    "\n",
    "The folder you just created using QGIS2threeJS can be dropped into any web server - even a github.io page - to share with collaborators. \n",
    "\n",
    "You can't serve data directly from the VDI - but you can copy your results to some web host (eg github.io). Here's an example:\n",
    "\n",
    "(sample URL here)\n",
    "\n",
    "What are some other ways to share QGIS projects?\n"
   ]
  },
  {
   "cell_type": "markdown",
   "metadata": {
    "collapsed": true
   },
   "source": [
    "<div class=\"alert alert-success\">\n",
    "<h3>Challenge question possible solutions</h3>\n",
    "\n",
    "<h4>Sane WCS coverage request names</h4>\n",
    "<p>\n",
    "One option is to use curl on the command line:</p>\n",
    "<p>\n",
    "<code>curl -o SRTM_dem_139_36.tiff 'http://dapds00.nci.org.au/thredds/wcs/ub8/au/FractCov/PV/FractCover.V3_0_1.2015.aust.005.PV.nc?service=WCS&version=1.0.0&Request=GetCoverage&Coverage=PV&bbox=149.0,-36,149.9,-35&format=GeoTIFF_Float'</code>\n",
    "<br/>\n",
    "\n",
    "<code>\n",
    "curl -o 2015_treecover_139_36.tiff 'http://dapds00.nci.org.au/thredds/wcs/ub8/au/FractCov/PV/FractCover.V3_0_1.2015.aust.005.PV.nc?service=WCS&version=1.0.0&Request=GetCoverage&Coverage=PV&bbox=149.0,-36,149.9,-35&format=GeoTIFF_Float'</code></p>\n",
    "\n",
    "<p>\n",
    "...are there others? What was yours?</p>\n",
    "\n",
    "<h4>Zonal statistics right in a notebook</h4>\n",
    "<p>\n",
    "You could also try rasterstats: https://github.com/perrygeo/python-rasterstats - any other suggestions?</p>\n",
    "\n",
    "<h4>Other ways to share your QGIS projects, and other 3D visualisers</h4>\n",
    "<p>\n",
    "For simple projects with CCBY4 data, the QGIS cloud is one way of sharing your results. Another is a Jupyter notebook hosted on github as a gist, a notebook, or as a github.io page. What was your approach?</p>\n",
    "<p>\n",
    "Loading OWS data is also possible in hosted 3D visualisers, for example NationalMap. Here's a sample of some XXXX data from NCI visualised using the NationalMap interface: (url) . What else do you use?</p>\n",
    "\n",
    "</div>"
   ]
  },
  {
   "cell_type": "markdown",
   "metadata": {},
   "source": []
  },
  {
   "cell_type": "code",
   "execution_count": null,
   "metadata": {
    "collapsed": true
   },
   "outputs": [],
   "source": []
  }
 ],
 "metadata": {
  "kernelspec": {
   "display_name": "Python 3",
   "language": "python",
   "name": "python3"
  },
  "language_info": {
   "codemirror_mode": {
    "name": "ipython",
    "version": 3
   },
   "file_extension": ".py",
   "mimetype": "text/x-python",
   "name": "python",
   "nbconvert_exporter": "python",
   "pygments_lexer": "ipython3",
   "version": "3.5.2"
  }
 },
 "nbformat": 4,
 "nbformat_minor": 0
}
