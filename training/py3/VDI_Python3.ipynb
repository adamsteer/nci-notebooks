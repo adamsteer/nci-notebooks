{
 "cells": [
  {
   "cell_type": "markdown",
   "metadata": {},
   "source": [
    "# Python 3 on the VDI\n",
    "\n",
    "How to set up Python 3 on the NCI Virtual Desktop Infrastructure."
   ]
  },
  {
   "cell_type": "markdown",
   "metadata": {},
   "source": [
    "### Prerequisites\n",
    "- An NCI account with access to the VDI\n",
    "- VDI software parts installed on your local machine\n",
    "- Some familiarity with the VDI's module load system\n",
    "\n",
    "Please see the VDI user guide [link] for details."
   ]
  },
  {
   "cell_type": "markdown",
   "metadata": {},
   "source": [
    "### In this notebook:\n",
    "1. Loading Python 3 modules\n",
    "2. Creating and using a Python 3 virtual environment\n",
    "3. Some key Python 2 -> 3 differences\n",
    "4. A short word about Anaconda/miniconda and VDI Python"
   ]
  },
  {
   "cell_type": "markdown",
   "metadata": {},
   "source": [
    "## 1. Loading Python 3 modules\n",
    "\n",
    "In a new terminal, type:\n",
    "\n",
    "<pre>\n",
    "$ module avail python3\n",
    "</pre>\n",
    "\n",
    "...to see available versions. To use Python 3.5.2, type:\n",
    "<pre>\n",
    "$ module load python3/3.5.2\n",
    "</pre>\n",
    "\n",
    "...and if you would like to use matplotlib, next type:\n",
    "<pre>\n",
    "$ module load python3/3.5.2-matplotlib\n",
    "</pre>\n",
    "\n",
    "#### The standard Python3 module must be loaded prior to loading python3/3.5.2-matplotlib"
   ]
  },
  {
   "cell_type": "markdown",
   "metadata": {},
   "source": [
    "## 2. Creating and using virtual environments in Python 3\n",
    "\n",
    "For Python 3, there is no need to use the VDI's virtualenv modules - since the creation of virtual environments is part of the Python 3 standard library.\n",
    "\n",
    "To create an environment named **`py3`**, type:\n",
    "\n",
    "    $ python3 -m venv py3\n",
    "\n",
    "You can place your virtual environment anywhere. If you have many, consider using part of a /g/data allocation. Use the VDI's **`quota`** command to check if you have space to keep a virtual environment in your home directory.\n",
    "\n",
    "To activate the environment, type:\n",
    "\n",
    "    $ source py3/bin/activate\n",
    "    (py3)$\n",
    "\n",
    "..at which point your prompt will change to show that you're inside the **`py3`** environment you just created. From here, it is safe to install python applications using **`pip3`** - for example:\n",
    "\n",
    "\n",
    "    (py3)$ pip3 install numpy\n",
    "    (py3)$ pip3 install -r requirements.txt\n",
    "\n",
    "\n",
    "For the second command, **`requirements.txt`** is a list of Python modules in a text file, one per line. See the documentation here: [https://pip.pypa.io/en/stable/reference/pip_install/#requirements-file-format](https://pip.pypa.io/en/stable/reference/pip_install/#requirements-file-format)\n",
    "\n",
    "To exit the virtual environment, type:\n",
    "\n",
    "    (py3)$ deactivate\n",
    "    $ \n",
    "\n",
    "Read more about virtual environments here: [https://docs.python.org/3/tutorial/venv.html](https://docs.python.org/3/tutorial/venv.html)"
   ]
  },
  {
   "cell_type": "markdown",
   "metadata": {},
   "source": [
    "## 3. Some key Python 2 -> 3 differences\n",
    "\n",
    "Checking the changelog for Python 3.0 shows the major differences between Python 2 and Python 3: [https://docs.python.org/3/whatsnew/3.0.html](https://docs.python.org/3/whatsnew/3.0.html).\n",
    "\n",
    "For practical purposes, the biggest obvious snag is the operation of **`print`** - which is now a function:\n",
    "\n",
    "**py27:** `print thing1,thing2` will print 'thing1 thing2'\n",
    "\n",
    "**py3x:** `print(\"{} {}\".format(thing1,thing2)` will print 'thing1 thing2'\n",
    "\n",
    "Another key change is the operation of `dict` methods - explained as the second item of the changelog linked above. Please refer to the change documentation if you're converting older code to Python 3 before calling for NCI help! Changes are pretty systematic, and any error messages resulting from Python 2 leftovers will become easy to fix fairly quickly.\n",
    "\n",
    "\n",
    "\n"
   ]
  },
  {
   "cell_type": "markdown",
   "metadata": {},
   "source": [
    "## 4. A short word about miniconda and VDI python\n",
    "\n",
    "Anaconda is a really useful packaged up Python installation. It is too big to install in your own space on the VDI - even the miniconda 'minimal package'.\n",
    "\n",
    "If you do use Anaconda/miniconda, there are two key considerations:\n",
    "- keep your distribution in project space on /g/data.\n",
    "- **do not mix VDI Python and Anaconda Python.** Use `which python` to determine wthe version you are using, and alter your `$PATH` as required.\n",
    "\n",
    "An additional consideration is to use the `conda` package manager instead of `pip` where possible. Again, this avoids possible confusion about managing parts of your python install."
   ]
  }
 ],
 "metadata": {
  "anaconda-cloud": {},
  "kernelspec": {
   "display_name": "Python [conda env:py35]",
   "language": "python",
   "name": "conda-env-py35-py"
  },
  "language_info": {
   "codemirror_mode": {
    "name": "ipython",
    "version": 3
   },
   "file_extension": ".py",
   "mimetype": "text/x-python",
   "name": "python",
   "nbconvert_exporter": "python",
   "pygments_lexer": "ipython3",
   "version": "3.5.2"
  }
 },
 "nbformat": 4,
 "nbformat_minor": 1
}
