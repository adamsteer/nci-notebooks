{
 "cells": [
  {
   "cell_type": "markdown",
   "metadata": {},
   "source": [
    "<img src=\"http://nci.org.au/wp-content/themes/nci/img/img-logo-large.png\", width=400>\n",
    "\n",
    "---------\n",
    "\n",
    "# Python 3 on the VDI\n",
    "\n",
    "How to set up Python 3 on the NCI Virtual Desktop Infrastructure."
   ]
  },
  {
   "cell_type": "markdown",
   "metadata": {},
   "source": [
    "### Prerequisites\n",
    "- An NCI account with access to the VDI\n",
    "- VDI software parts installed on your local machine\n",
    "- Some familiarity with the VDI's module load system\n",
    "\n",
    "Please see the VDI user guide (http://vdi.nci.org.au/help) for VDI usage details."
   ]
  },
  {
   "cell_type": "markdown",
   "metadata": {},
   "source": [
    "### In this notebook:\n",
    "1. Loading Python 3 modules\n",
    "2. Creating and using a Python 3 virtual environment\n",
    "3. Using Jupyter notebooks (formerly iPython notebooks)\n",
    "4. Some key Python 2 -> 3 differences\n",
    "5. A short word about Anaconda/miniconda and VDI Python\n",
    "6. Summary of all commands"
   ]
  },
  {
   "cell_type": "markdown",
   "metadata": {},
   "source": [
    "## 1. Loading Python 3 modules\n",
    "\n",
    "In a new terminal, type:\n",
    "```\n",
    "    $ module avail python3\n",
    "```\n",
    "\n",
    "...to see available versions. To use Python 3.5.2, type:\n",
    "\n",
    "```\n",
    "    $ module load python3/3.5.2\n",
    "```\n",
    "...and if you would like to use matplotlib, next type:\n",
    "\n",
    "```\n",
    "    $ module load python3/3.5.2-matplotlib\n",
    "```\n",
    "\n",
    "#### The standard Python 3 module must be loaded prior to loading python3/3.5.2-matplotlib\n",
    "\n",
    "...and if you would like to use interactive notebooks, next type:\n",
    "```\n",
    "    $ module load ipython/4.2.0-py3.5\n",
    "``` \n",
    "#### Load iPython last - it appears to not 'see' matplotlib unless matplotlib is loaded first."
   ]
  },
  {
   "cell_type": "markdown",
   "metadata": {},
   "source": [
    "## 2. Creating and using virtual environments in Python 3\n",
    "\n",
    "For Python 3, there is no need to use the VDI's virtualenv modules - since the creation of virtual environments is part of the Python 3 standard library.\n",
    "\n",
    "To create an environment named **`py3`**, type:\n",
    "```\n",
    "    $ python3 -m venv py3\n",
    "```\n",
    "You can place your virtual environment anywhere. If you have many, consider using part of a /g/data allocation. Use the VDI's **`quota`** command to check if you have space to keep a virtual environment in your home directory.\n",
    "\n",
    "To activate the environment, type:\n",
    "```\n",
    "    $ source py3/bin/activate\n",
    "    (py3)$\n",
    "```\n",
    "..at which point your prompt will change to show that you're inside the **`py3`** environment you just created. From here, it is safe to install python applications using **`pip3`** - for example:\n",
    "```\n",
    "    (py3)$ pip3 install numpy\n",
    "    (py3)$ pip3 install -r requirements.txt\n",
    "```\n",
    "\n",
    "For the second command, **`requirements.txt`** is a list of Python modules in a text file, one per line. See the documentation here: [https://pip.pypa.io/en/stable/reference/pip_install/#requirements-file-format](https://pip.pypa.io/en/stable/reference/pip_install/#requirements-file-format)\n",
    "\n",
    "You can make a requirements file as follows:\n",
    "```\n",
    "    (py3)$ pip freeze > requirements.txt\n",
    "```\n",
    "\n",
    "To exit the virtual environment, type:\n",
    "```\n",
    "    (py3)$ deactivate\n",
    "    $ \n",
    "```\n",
    "Read more about virtual environments here: [https://docs.python.org/3/tutorial/venv.html](https://docs.python.org/3/tutorial/venv.html)"
   ]
  },
  {
   "cell_type": "markdown",
   "metadata": {},
   "source": [
    "## 3. Starting Jupyter notebooks\n",
    "\n",
    "Interactive notebooks (like this one) are great tools for prototyping, sharing and even publishing code. They are used extensively for demonstrations in NCI training materials (like this).\n",
    "\n",
    "Using the modules loaded in step 1, and the environment created in step 2, start a notebook session as follows:\n",
    "\n",
    "```\n",
    "    $ source py3/bin/activate\n",
    "    (py3)$ jupyter notebook\n",
    "```\n",
    "\n",
    "**note** - you only need the source /py3/bin/activate command if you deactivated the environment in step 2.\n",
    "\n",
    "This should open a new firefox web browser window showing a new notebook interface starting at the current directory. Please refer to the Jupyter notebook documentation for usage instructions: https://jupyter.readthedocs.io/en/latest/index.html"
   ]
  },
  {
   "cell_type": "markdown",
   "metadata": {},
   "source": [
    "## 4. Some key Python 2 -> 3 differences\n",
    "\n",
    "Checking the changelog for Python 3.0 shows the major differences between Python 2 and Python 3: [https://docs.python.org/3/whatsnew/3.0.html](https://docs.python.org/3/whatsnew/3.0.html).\n",
    "\n",
    "For practical purposes, the biggest obvious snag is the operation of **`print`** - which is now a function:\n",
    "\n",
    "**py27:** `print thing1,thing2` will print 'thing1 thing2'\n",
    "\n",
    "**py3x:** `print(\"{} {}\".format(thing1,thing2)` will print 'thing1 thing2'\n",
    "\n",
    "Another key change is the operation of `dict` methods - explained as the second item of the changelog linked above. Please refer to the change documentation if you're converting older code to Python 3 before calling for NCI help! Changes are pretty systematic, and any error messages resulting from Python 2 leftovers will become easy to fix fairly quickly."
   ]
  },
  {
   "cell_type": "markdown",
   "metadata": {},
   "source": [
    "### A few examples"
   ]
  },
  {
   "cell_type": "code",
   "execution_count": 13,
   "metadata": {
    "collapsed": false,
    "scrolled": true
   },
   "outputs": [
    {
     "ename": "SyntaxError",
     "evalue": "Missing parentheses in call to 'print' (<ipython-input-13-7427cc94a712>, line 2)",
     "output_type": "error",
     "traceback": [
      "\u001b[0;36m  File \u001b[0;32m\"<ipython-input-13-7427cc94a712>\"\u001b[0;36m, line \u001b[0;32m2\u001b[0m\n\u001b[0;31m    print 'a test'\u001b[0m\n\u001b[0m                 ^\u001b[0m\n\u001b[0;31mSyntaxError\u001b[0m\u001b[0;31m:\u001b[0m Missing parentheses in call to 'print'\n"
     ]
    }
   ],
   "source": [
    "## Text printing Python 2 style:\n",
    "print 'a test'"
   ]
  },
  {
   "cell_type": "code",
   "execution_count": 20,
   "metadata": {
    "collapsed": false
   },
   "outputs": [
    {
     "ename": "SyntaxError",
     "evalue": "Missing parentheses in call to 'print' (<ipython-input-20-6901f9d946e9>, line 3)",
     "output_type": "error",
     "traceback": [
      "\u001b[0;36m  File \u001b[0;32m\"<ipython-input-20-6901f9d946e9>\"\u001b[0;36m, line \u001b[0;32m3\u001b[0m\n\u001b[0;31m    print a,b,c\u001b[0m\n\u001b[0m          ^\u001b[0m\n\u001b[0;31mSyntaxError\u001b[0m\u001b[0;31m:\u001b[0m Missing parentheses in call to 'print'\n"
     ]
    }
   ],
   "source": [
    "# Printing numbers the Python 2 way:\n",
    "a=1; b=2; c=3\n",
    "print a,b,c"
   ]
  },
  {
   "cell_type": "code",
   "execution_count": 19,
   "metadata": {
    "collapsed": false
   },
   "outputs": [
    {
     "name": "stdout",
     "output_type": "stream",
     "text": [
      "a test\n",
      "1 2 3\n",
      "a = 1, b = 2, c = 3\n",
      "c = 3, a = 1, b = 2\n"
     ]
    }
   ],
   "source": [
    "# The Python 3 way - print() as a function\n",
    "# print text\n",
    "print('a test')\n",
    "# print numbers\n",
    "a=1;b=2;c=3\n",
    "print(a,b,c)\n",
    "# format some numbers\n",
    "print('a = {}, b = {}, c = {}'.format(a,b,c))\n",
    "# use indexing from the 'format' block to change order\n",
    "print('c = {2}, a = {0}, b = {1}'.format(a,b,c))"
   ]
  },
  {
   "cell_type": "markdown",
   "metadata": {},
   "source": [
    "## 5. A short word about miniconda and VDI python\n",
    "\n",
    "Anaconda is a really useful packaged up Python installation. It is too big to install in your own space on the VDI - even the miniconda 'minimal package'.\n",
    "\n",
    "If you do use Anaconda/miniconda, there are a few key considerations:\n",
    "- keep your distribution in project space on /g/data.\n",
    "- **do not mix VDI Python and Anaconda Python.** If things get confused, use `which python` to determine the version you are using, and alter your `$PATH` as required.\n",
    "- use the `conda` package manager instead of `pip`. This helps to avoid confusion when managing parts of your python install."
   ]
  },
  {
   "cell_type": "markdown",
   "metadata": {},
   "source": [
    "## 6. Summary\n",
    "\n",
    "Loading Python 3, matplotlib for Python 3, and iPython for Python 3. Pay attention to load order - if something breaks in your specific setup, read the resulting error message to see if you can figure out what parts need to be loaded before others (load order in NCI training materials is always tested - they're a useful resource):\n",
    "```\n",
    "    $ module load python3/3.5.2\n",
    "    $ module load python3/3.5.2-matplotlib\n",
    "    $ module load ipython/4.2.0-py3.5\n",
    "```\n",
    "\n",
    "Creating and starting a virtual environment:\n",
    "```\n",
    "    $ python3 -m venv py3\n",
    "    $ source py3/bin/activate\n",
    "    (py3)$\n",
    "```\n",
    "\n",
    "Install python applications using **`pip3`** for your virtual environment:\n",
    "```\n",
    "    (py3)$ pip3 install numpy\n",
    "    (py3)$ pip3 install -r requirements.txt\n",
    "```\n",
    "\n",
    "Save your environment settings to a requirements file:\n",
    "```\n",
    "    (py3)$ pip freeze > requirements.txt\n",
    "```\n",
    "\n",
    "Start a Jupyter notebook session:\n",
    "```\n",
    "    (py3)$ jupyter notebook\n",
    "```\n",
    "\n",
    "To exit the virtual environment, type:\n",
    "```\n",
    "    (py3)$ deactivate\n",
    "    $ \n",
    "```"
   ]
  },
  {
   "cell_type": "code",
   "execution_count": null,
   "metadata": {
    "collapsed": true
   },
   "outputs": [],
   "source": []
  }
 ],
 "metadata": {
  "anaconda-cloud": {},
  "kernelspec": {
   "display_name": "Python [conda env:py35]",
   "language": "python",
   "name": "conda-env-py35-py"
  },
  "language_info": {
   "codemirror_mode": {
    "name": "ipython",
    "version": 3
   },
   "file_extension": ".py",
   "mimetype": "text/x-python",
   "name": "python",
   "nbconvert_exporter": "python",
   "pygments_lexer": "ipython3",
   "version": "3.5.2"
  }
 },
 "nbformat": 4,
 "nbformat_minor": 1
}
